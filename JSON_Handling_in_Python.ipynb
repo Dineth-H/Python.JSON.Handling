{
  "nbformat": 4,
  "nbformat_minor": 0,
  "metadata": {
    "colab": {
      "provenance": []
    },
    "kernelspec": {
      "name": "python3",
      "display_name": "Python 3"
    },
    "language_info": {
      "name": "python"
    }
  },
  "cells": [
    {
      "cell_type": "code",
      "execution_count": null,
      "metadata": {
        "id": "c-SefNmW29zj"
      },
      "outputs": [],
      "source": [
        "import requests\n",
        "import json\n",
        "\n",
        "# Define the base URL\n",
        "base_url = \"http://host1.open.uom.lk:8080\"\n",
        "\n",
        "# Define the API endpoint for entering a new product\n",
        "api_endpoint = \"/api/products/\"\n",
        "\n",
        "# Define the JSON data for the new product\n",
        "new_product_data = {\n",
        "    \"productName\": \"Araliya Basmathi Rice\",\n",
        "    \"description\": \"White Basmathi Rice imported from Pakistan. High-quality rice with extra fragrance. Organically grown.\",\n",
        "    \"category\": \"Rice\",\n",
        "    \"brand\": \"CIC\",\n",
        "    \"expiredDate\": \"2023.05.04\",\n",
        "    \"manufacturedDate\": \"2022.02.20\",\n",
        "    \"batchNumber\": 324567,\n",
        "    \"unitPrice\": 1020,\n",
        "    \"quantity\": 200,\n",
        "    \"createdDate\": \"2022.02.24\"\n",
        "}\n",
        "\n",
        "# Convert the data to JSON format\n",
        "json_data = json.dumps(new_product_data)\n",
        "\n",
        "# Send a POST request to create the new product\n",
        "response = requests.post(base_url + api_endpoint, data=json_data)\n",
        "\n",
        "# Print the response code\n",
        "print(response.status_code)\n"
      ]
    },
    {
      "cell_type": "code",
      "source": [
        "import requests\n",
        "\n",
        "# Define the base URL\n",
        "base_url = \"http://host1.open.uom.lk:8080\"\n",
        "\n",
        "# Define the API endpoint for getting all products\n",
        "api_endpoint = \"/api/products/\"\n",
        "\n",
        "# Send a GET request to retrieve all products\n",
        "response = requests.get(base_url + api_endpoint)\n",
        "\n",
        "# Check if the request was successful (status code 200)\n",
        "if response.status_code == 200:\n",
        "    # Parse the JSON response\n",
        "    data = response.json()\n",
        "\n",
        "    # Check if the response contains a \"data\" key\n",
        "    if \"data\" in data:\n",
        "        products = data[\"data\"]\n",
        "\n",
        "        # Print the total number of products\n",
        "        #total_products = len(products)\n",
        "        #print(\"Total Number of Products:\", total_products)\n",
        "\n",
        "        # Print the details of each product\n",
        "        print('{')\n",
        "        print('\"message\":', '\"SUCCESS\"', ',')\n",
        "        print('\"data\":[')\n",
        "        for product in products:\n",
        "            print(\"{\")\n",
        "            print('\"id\":', product[\"id\"],\",\")\n",
        "            print('\"productName\":', '\"' ,product[\"productName\"],'\",')\n",
        "            print('\"description\":', '\"' ,product[\"description\"],'\",')\n",
        "            print('\"category\":', '\"' ,product[\"category\"],'\",')\n",
        "            print('\"brand\":', '\"' ,product[\"brand\"],'\",')\n",
        "            print('\"expiredDate\":', '\"' ,product[\"expiredDate\"],'\",')\n",
        "            print('\"manufacturedDate\":','\"' , product[\"manufacturedDate\"],'\",')\n",
        "            print('\"batchNumber\":', product[\"batchNumber\"],\",\")\n",
        "            print('\"unitPrice\":', product[\"unitPrice\"],\",\")\n",
        "            print('\"quantity\":', product[\"quantity\"],\",\")\n",
        "            print('\"createdDate\":', '\"' ,product[\"createdDate\"],'\"')\n",
        "            print(\"},\")\n",
        "else:\n",
        "    print(response.status_code)\n",
        "\n",
        "print(\"]}\")\n"
      ],
      "metadata": {
        "id": "37CD8A895NvI"
      },
      "execution_count": null,
      "outputs": []
    },
    {
      "cell_type": "code",
      "source": [],
      "metadata": {
        "id": "jCSNzN3HA-ZK"
      },
      "execution_count": null,
      "outputs": []
    }
  ]
}